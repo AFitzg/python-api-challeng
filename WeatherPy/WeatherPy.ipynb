{
 "cells": [
  {
   "cell_type": "markdown",
   "metadata": {},
   "source": [
    "# WeatherPy\n",
    "----\n",
    "\n",
    "#### Note\n",
    "* Instructions have been included for each segment. You do not have to follow them exactly, but they are included to help you think through the steps."
   ]
  },
  {
   "cell_type": "code",
   "execution_count": 1,
   "metadata": {},
   "outputs": [
    {
     "name": "stdout",
     "output_type": "stream",
     "text": [
      "Requirement already satisfied: citipy in /Users/arielfitzgerald/opt/anaconda3/lib/python3.8/site-packages (0.0.5)\n",
      "Requirement already satisfied: kdtree>=0.12 in /Users/arielfitzgerald/opt/anaconda3/lib/python3.8/site-packages (from citipy) (0.16)\n",
      "Note: you may need to restart the kernel to use updated packages.\n"
     ]
    }
   ],
   "source": [
    "pip install citipy"
   ]
  },
  {
   "cell_type": "code",
   "execution_count": 2,
   "metadata": {
    "scrolled": true
   },
   "outputs": [],
   "source": [
    "# Dependencies and Setup\n",
    "import matplotlib.pyplot as plt\n",
    "import pandas as pd\n",
    "import numpy as np\n",
    "import requests\n",
    "import time\n",
    "from scipy.stats import linregress\n",
    "\n",
    "# Import API key\n",
    "from api_keys import weather_api_key\n",
    "\n",
    "# Incorporated citipy to determine city based on latitude and longitude\n",
    "from citipy import citipy\n",
    "\n",
    "# Output File (CSV)\n",
    "output_data_file = \"output_data/cities.csv\"\n",
    "\n",
    "# Range of latitudes and longitudes\n",
    "lat_range = (-90, 90)\n",
    "lng_range = (-180, 180)"
   ]
  },
  {
   "cell_type": "markdown",
   "metadata": {},
   "source": [
    "## Generate Cities List"
   ]
  },
  {
   "cell_type": "code",
   "execution_count": 3,
   "metadata": {
    "scrolled": false
   },
   "outputs": [
    {
     "data": {
      "text/plain": [
       "618"
      ]
     },
     "execution_count": 3,
     "metadata": {},
     "output_type": "execute_result"
    }
   ],
   "source": [
    "# List for holding lat_lngs and cities\n",
    "lat_lngs = []\n",
    "cities = []\n",
    "\n",
    "# Create a set of random lat and lng combinations\n",
    "lats = np.random.uniform(lat_range[0], lat_range[1], size=1500)\n",
    "lngs = np.random.uniform(lng_range[0], lng_range[1], size=1500)\n",
    "lat_lngs = zip(lats, lngs)\n",
    "\n",
    "# Identify nearest city for each lat, lng combination\n",
    "for lat_lng in lat_lngs:\n",
    "    city = citipy.nearest_city(lat_lng[0], lat_lng[1]).city_name\n",
    "    \n",
    "    # If the city is unique, then add it to a our cities list\n",
    "    if city not in cities:\n",
    "        cities.append(city)\n",
    "\n",
    "# Print the city count to confirm sufficient count\n",
    "len(cities)"
   ]
  },
  {
   "cell_type": "markdown",
   "metadata": {},
   "source": [
    "### Perform API Calls\n",
    "* Perform a weather check on each city using a series of successive API calls.\n",
    "* Include a print log of each city as it'sbeing processed (with the city number and city name).\n"
   ]
  },
  {
   "cell_type": "code",
   "execution_count": 4,
   "metadata": {
    "scrolled": true
   },
   "outputs": [
    {
     "name": "stdout",
     "output_type": "stream",
     "text": [
      "Beginning Data Retrieval\n",
      "-----------------------------\n",
      "Processing Record 1 of Set 1 | tuktoyaktuk\n",
      "Processing Record 2 of Set 1 | ushuaia\n",
      "Processing Record 3 of Set 1 | thompson\n",
      "Processing Record 4 of Set 1 | were ilu\n",
      "Processing Record 5 of Set 1 | codigoro\n",
      "Processing Record 6 of Set 1 | ribeira grande\n",
      "Processing Record 7 of Set 1 | clyde river\n",
      "Processing Record 8 of Set 1 | sabzevar\n",
      "Processing Record 9 of Set 1 | samusu\n",
      "City not found. Skipping...\n",
      "Processing Record 9 of Set 1 | rikitea\n",
      "Processing Record 10 of Set 1 | salisbury\n",
      "Processing Record 11 of Set 1 | puerto ayora\n",
      "Processing Record 12 of Set 1 | kaplice\n",
      "Processing Record 13 of Set 1 | yellowknife\n",
      "Processing Record 14 of Set 1 | arraial do cabo\n",
      "Processing Record 15 of Set 1 | badaojiang\n",
      "City not found. Skipping...\n",
      "Processing Record 15 of Set 1 | butaritari\n",
      "Processing Record 16 of Set 1 | husavik\n",
      "Processing Record 17 of Set 1 | ponta do sol\n",
      "Processing Record 18 of Set 1 | kapaa\n",
      "Processing Record 19 of Set 1 | ennis\n",
      "Processing Record 20 of Set 1 | amderma\n",
      "City not found. Skipping...\n",
      "Processing Record 20 of Set 1 | san patricio\n",
      "Processing Record 21 of Set 1 | vaini\n",
      "Processing Record 22 of Set 1 | eyl\n",
      "Processing Record 23 of Set 1 | new norfolk\n",
      "Processing Record 24 of Set 1 | blythe\n",
      "Processing Record 25 of Set 1 | esperance\n",
      "Processing Record 26 of Set 1 | port elizabeth\n",
      "Processing Record 27 of Set 1 | georgetown\n",
      "Processing Record 28 of Set 1 | mataura\n",
      "Processing Record 29 of Set 1 | barrow\n",
      "Processing Record 30 of Set 1 | punta arenas\n",
      "Processing Record 31 of Set 1 | asfi\n",
      "Processing Record 32 of Set 1 | kaitangata\n",
      "Processing Record 33 of Set 1 | samoded\n",
      "Processing Record 34 of Set 1 | nikolskoye\n",
      "Processing Record 35 of Set 1 | cape town\n",
      "Processing Record 36 of Set 1 | san juan\n",
      "Processing Record 37 of Set 1 | faanui\n",
      "Processing Record 38 of Set 1 | mar del plata\n",
      "Processing Record 39 of Set 1 | bergama\n",
      "Processing Record 40 of Set 1 | henties bay\n",
      "Processing Record 41 of Set 1 | katsuura\n",
      "Processing Record 42 of Set 1 | fortuna\n",
      "Processing Record 43 of Set 1 | tuatapere\n",
      "Processing Record 44 of Set 1 | atuona\n",
      "Processing Record 45 of Set 1 | ostrovnoy\n",
      "Processing Record 46 of Set 1 | krasnovishersk\n",
      "Processing Record 47 of Set 1 | cabo san lucas\n",
      "Processing Record 48 of Set 1 | mrakovo\n",
      "Processing Record 49 of Set 1 | matagami\n",
      "Processing Record 50 of Set 1 | victoria\n",
      "Processing Record 51 of Set 1 | port alfred\n",
      "Processing Record 52 of Set 1 | lubango\n",
      "Processing Record 53 of Set 1 | yar-sale\n",
      "Processing Record 54 of Set 1 | prevalje\n",
      "Processing Record 1 of Set 2 | babanusah\n",
      "City not found. Skipping...\n",
      "Processing Record 1 of Set 2 | astoria\n",
      "Processing Record 2 of Set 2 | ilulissat\n",
      "Processing Record 3 of Set 2 | bambous virieux\n",
      "Processing Record 4 of Set 2 | lompoc\n",
      "Processing Record 5 of Set 2 | cavalcante\n",
      "Processing Record 6 of Set 2 | ribeira brava\n",
      "Processing Record 7 of Set 2 | busselton\n",
      "Processing Record 8 of Set 2 | lynchburg\n",
      "Processing Record 9 of Set 2 | mahebourg\n",
      "Processing Record 10 of Set 2 | teguldet\n",
      "Processing Record 11 of Set 2 | tsihombe\n",
      "City not found. Skipping...\n",
      "Processing Record 11 of Set 2 | kruisfontein\n",
      "Processing Record 12 of Set 2 | castro\n",
      "Processing Record 13 of Set 2 | sao filipe\n",
      "Processing Record 14 of Set 2 | mahajanga\n",
      "Processing Record 15 of Set 2 | komsomolskiy\n",
      "Processing Record 16 of Set 2 | vila franca do campo\n",
      "Processing Record 17 of Set 2 | garissa\n",
      "Processing Record 18 of Set 2 | khatanga\n",
      "Processing Record 19 of Set 2 | araouane\n",
      "Processing Record 20 of Set 2 | camacha\n",
      "Processing Record 21 of Set 2 | albany\n",
      "Processing Record 22 of Set 2 | harbour breton\n",
      "Processing Record 23 of Set 2 | fairbanks\n",
      "Processing Record 24 of Set 2 | vung tau\n",
      "Processing Record 25 of Set 2 | arlit\n",
      "Processing Record 26 of Set 2 | egvekinot\n",
      "Processing Record 27 of Set 2 | airai\n",
      "Processing Record 28 of Set 2 | rungata\n",
      "City not found. Skipping...\n",
      "Processing Record 28 of Set 2 | bredasdorp\n",
      "Processing Record 29 of Set 2 | leningradskiy\n",
      "Processing Record 30 of Set 2 | urdzhar\n",
      "City not found. Skipping...\n",
      "Processing Record 30 of Set 2 | bluff\n",
      "Processing Record 31 of Set 2 | hilo\n",
      "Processing Record 32 of Set 2 | puerto escondido\n",
      "Processing Record 33 of Set 2 | norman wells\n",
      "Processing Record 34 of Set 2 | qaqortoq\n",
      "Processing Record 35 of Set 2 | bengkulu\n",
      "Processing Record 36 of Set 2 | sao joao da barra\n",
      "Processing Record 37 of Set 2 | port blair\n",
      "Processing Record 38 of Set 2 | kamenka\n",
      "Processing Record 39 of Set 2 | scarborough\n",
      "Processing Record 40 of Set 2 | sao felix do xingu\n",
      "Processing Record 41 of Set 2 | vagamo\n",
      "Processing Record 42 of Set 2 | bethel\n",
      "Processing Record 43 of Set 2 | muli\n",
      "Processing Record 44 of Set 2 | tiksi\n",
      "Processing Record 45 of Set 2 | jiangyou\n",
      "Processing Record 46 of Set 2 | vanimo\n",
      "Processing Record 47 of Set 2 | souillac\n",
      "Processing Record 48 of Set 2 | grindavik\n",
      "Processing Record 49 of Set 2 | liberal\n",
      "Processing Record 50 of Set 2 | novobirilyussy\n",
      "Processing Record 51 of Set 2 | baruun-urt\n",
      "Processing Record 52 of Set 2 | hobart\n",
      "Processing Record 53 of Set 2 | kirakira\n",
      "Processing Record 54 of Set 2 | andra\n",
      "Processing Record 1 of Set 3 | samarai\n",
      "Processing Record 2 of Set 3 | iqaluit\n",
      "Processing Record 3 of Set 3 | richards bay\n",
      "Processing Record 4 of Set 3 | pemba\n",
      "Processing Record 5 of Set 3 | rome\n",
      "Processing Record 6 of Set 3 | lubumbashi\n",
      "Processing Record 7 of Set 3 | port macquarie\n",
      "Processing Record 8 of Set 3 | illoqqortoormiut\n",
      "City not found. Skipping...\n",
      "Processing Record 8 of Set 3 | sussex\n",
      "Processing Record 9 of Set 3 | aquiraz\n",
      "Processing Record 10 of Set 3 | naze\n",
      "Processing Record 11 of Set 3 | elizabeth city\n",
      "Processing Record 12 of Set 3 | belushya guba\n",
      "City not found. Skipping...\n",
      "Processing Record 12 of Set 3 | olafsvik\n",
      "Processing Record 13 of Set 3 | jamestown\n",
      "Processing Record 14 of Set 3 | saint-philippe\n",
      "Processing Record 15 of Set 3 | nanortalik\n",
      "Processing Record 16 of Set 3 | nizhneyansk\n",
      "City not found. Skipping...\n",
      "Processing Record 16 of Set 3 | upernavik\n",
      "Processing Record 17 of Set 3 | nuuk\n",
      "Processing Record 18 of Set 3 | tura\n",
      "Processing Record 19 of Set 3 | taolanaro\n",
      "City not found. Skipping...\n",
      "Processing Record 19 of Set 3 | sainte-anne-des-monts\n",
      "Processing Record 20 of Set 3 | tutoia\n",
      "Processing Record 21 of Set 3 | tucumcari\n",
      "Processing Record 22 of Set 3 | bambanglipuro\n",
      "Processing Record 23 of Set 3 | saldanha\n",
      "Processing Record 24 of Set 3 | porangatu\n",
      "Processing Record 25 of Set 3 | glendive\n",
      "Processing Record 26 of Set 3 | buriti alegre\n",
      "Processing Record 27 of Set 3 | narsaq\n",
      "Processing Record 28 of Set 3 | sorong\n",
      "Processing Record 29 of Set 3 | baisha\n",
      "Processing Record 30 of Set 3 | taikang\n",
      "Processing Record 31 of Set 3 | santa cruz\n",
      "Processing Record 32 of Set 3 | torbay\n",
      "Processing Record 33 of Set 3 | saint george\n",
      "Processing Record 34 of Set 3 | khandyga\n",
      "Processing Record 35 of Set 3 | moerai\n",
      "Processing Record 36 of Set 3 | codrington\n",
      "Processing Record 37 of Set 3 | sungaipenuh\n",
      "Processing Record 38 of Set 3 | coihaique\n",
      "Processing Record 39 of Set 3 | hami\n",
      "Processing Record 40 of Set 3 | the valley\n",
      "Processing Record 41 of Set 3 | palaiokhora\n",
      "City not found. Skipping...\n",
      "Processing Record 41 of Set 3 | inverell\n",
      "Processing Record 42 of Set 3 | along\n",
      "Processing Record 43 of Set 3 | toora-khem\n",
      "Processing Record 44 of Set 3 | sampit\n",
      "Processing Record 45 of Set 3 | marzuq\n",
      "Processing Record 46 of Set 3 | kadykchan\n",
      "City not found. Skipping...\n",
      "Processing Record 46 of Set 3 | bonnyville\n",
      "Processing Record 47 of Set 3 | north bend\n",
      "Processing Record 48 of Set 3 | ondangwa\n",
      "Processing Record 49 of Set 3 | kologriv\n",
      "Processing Record 50 of Set 3 | dikson\n",
      "Processing Record 51 of Set 3 | bogatyye saby\n",
      "Processing Record 52 of Set 3 | bolshiye kaybitsy\n",
      "City not found. Skipping...\n",
      "Processing Record 52 of Set 3 | barcelos\n",
      "Processing Record 53 of Set 3 | avarua\n",
      "Processing Record 54 of Set 3 | kazalinsk\n",
      "City not found. Skipping...\n",
      "Processing Record 54 of Set 3 | okahandja\n",
      "Processing Record 1 of Set 4 | mehamn\n",
      "Processing Record 2 of Set 4 | bekobod\n",
      "Processing Record 3 of Set 4 | karakol\n",
      "Processing Record 4 of Set 4 | havre-saint-pierre\n",
      "Processing Record 5 of Set 4 | palmer\n",
      "Processing Record 6 of Set 4 | grand river south east\n",
      "City not found. Skipping...\n",
      "Processing Record 6 of Set 4 | hithadhoo\n",
      "Processing Record 7 of Set 4 | kamenskoye\n"
     ]
    },
    {
     "name": "stdout",
     "output_type": "stream",
     "text": [
      "City not found. Skipping...\n",
      "Processing Record 7 of Set 4 | togur\n",
      "Processing Record 8 of Set 4 | necochea\n",
      "Processing Record 9 of Set 4 | lebu\n",
      "Processing Record 10 of Set 4 | ancud\n",
      "Processing Record 11 of Set 4 | reconquista\n",
      "Processing Record 12 of Set 4 | bozeman\n",
      "Processing Record 13 of Set 4 | maarianhamina\n",
      "Processing Record 14 of Set 4 | victor harbor\n",
      "Processing Record 15 of Set 4 | newcastle\n",
      "Processing Record 16 of Set 4 | lasa\n",
      "Processing Record 17 of Set 4 | marietta\n",
      "Processing Record 18 of Set 4 | wum\n",
      "Processing Record 19 of Set 4 | solovetskiy\n",
      "City not found. Skipping...\n",
      "Processing Record 19 of Set 4 | jackson\n",
      "Processing Record 20 of Set 4 | carnarvon\n",
      "Processing Record 21 of Set 4 | bintulu\n",
      "Processing Record 22 of Set 4 | osmaniye\n",
      "Processing Record 23 of Set 4 | brae\n",
      "Processing Record 24 of Set 4 | murgab\n",
      "Processing Record 25 of Set 4 | pevek\n",
      "Processing Record 26 of Set 4 | svetlogorsk\n",
      "Processing Record 27 of Set 4 | opuwo\n",
      "Processing Record 28 of Set 4 | namatanai\n",
      "Processing Record 29 of Set 4 | buraydah\n",
      "Processing Record 30 of Set 4 | oktyabrskiy\n",
      "Processing Record 31 of Set 4 | biak\n",
      "Processing Record 32 of Set 4 | tiznit\n",
      "Processing Record 33 of Set 4 | cherskiy\n",
      "Processing Record 34 of Set 4 | kodiak\n",
      "Processing Record 35 of Set 4 | keningau\n",
      "Processing Record 36 of Set 4 | san blas\n",
      "Processing Record 37 of Set 4 | pangody\n",
      "Processing Record 38 of Set 4 | villa rica\n",
      "Processing Record 39 of Set 4 | pitimbu\n",
      "Processing Record 40 of Set 4 | guelengdeng\n",
      "City not found. Skipping...\n",
      "Processing Record 40 of Set 4 | nouadhibou\n",
      "Processing Record 41 of Set 4 | arman\n",
      "Processing Record 42 of Set 4 | atambua\n",
      "Processing Record 43 of Set 4 | sindor\n",
      "Processing Record 44 of Set 4 | merauke\n",
      "Processing Record 45 of Set 4 | bundaberg\n",
      "Processing Record 46 of Set 4 | borogontsy\n",
      "Processing Record 47 of Set 4 | broken hill\n",
      "Processing Record 48 of Set 4 | avera\n",
      "Processing Record 49 of Set 4 | kyshtovka\n",
      "Processing Record 50 of Set 4 | kahului\n",
      "Processing Record 51 of Set 4 | lorengau\n",
      "Processing Record 52 of Set 4 | mys shmidta\n",
      "City not found. Skipping...\n",
      "Processing Record 52 of Set 4 | monte carmelo\n",
      "Processing Record 53 of Set 4 | provideniya\n",
      "Processing Record 54 of Set 4 | chicama\n",
      "Processing Record 1 of Set 5 | santa cruz de tenerife\n",
      "Processing Record 2 of Set 5 | tasiilaq\n",
      "Processing Record 3 of Set 5 | portland\n",
      "Processing Record 4 of Set 5 | witu\n",
      "Processing Record 5 of Set 5 | itoman\n",
      "Processing Record 6 of Set 5 | florianopolis\n",
      "Processing Record 7 of Set 5 | oyon\n",
      "Processing Record 8 of Set 5 | pisco\n",
      "Processing Record 9 of Set 5 | chagda\n",
      "City not found. Skipping...\n",
      "Processing Record 9 of Set 5 | cidreira\n",
      "Processing Record 10 of Set 5 | palencia\n",
      "Processing Record 11 of Set 5 | port hardy\n",
      "Processing Record 12 of Set 5 | bulungu\n",
      "Processing Record 13 of Set 5 | acari\n",
      "Processing Record 14 of Set 5 | yalutorovsk\n",
      "Processing Record 15 of Set 5 | palabuhanratu\n",
      "City not found. Skipping...\n",
      "Processing Record 15 of Set 5 | otta\n",
      "Processing Record 16 of Set 5 | zaragoza\n",
      "Processing Record 17 of Set 5 | kutum\n",
      "Processing Record 18 of Set 5 | salalah\n",
      "Processing Record 19 of Set 5 | vieques\n",
      "Processing Record 20 of Set 5 | warrington\n",
      "Processing Record 21 of Set 5 | hermanus\n",
      "Processing Record 22 of Set 5 | hammerfest\n",
      "Processing Record 23 of Set 5 | talaja\n",
      "Processing Record 24 of Set 5 | attawapiskat\n",
      "City not found. Skipping...\n",
      "Processing Record 24 of Set 5 | dujuma\n",
      "City not found. Skipping...\n",
      "Processing Record 24 of Set 5 | vostok\n",
      "Processing Record 25 of Set 5 | caravelas\n",
      "Processing Record 26 of Set 5 | tiarei\n",
      "Processing Record 27 of Set 5 | magugu\n",
      "Processing Record 28 of Set 5 | bathsheba\n",
      "Processing Record 29 of Set 5 | batangafo\n",
      "Processing Record 30 of Set 5 | pontal do parana\n",
      "Processing Record 31 of Set 5 | puerto colombia\n",
      "Processing Record 32 of Set 5 | launceston\n",
      "Processing Record 33 of Set 5 | harper\n",
      "Processing Record 34 of Set 5 | kavieng\n",
      "Processing Record 35 of Set 5 | santa maria\n",
      "Processing Record 36 of Set 5 | jinchengjiang\n",
      "City not found. Skipping...\n",
      "Processing Record 36 of Set 5 | nome\n",
      "Processing Record 37 of Set 5 | mokhsogollokh\n",
      "Processing Record 38 of Set 5 | maple creek\n",
      "Processing Record 39 of Set 5 | dire dawa\n",
      "Processing Record 40 of Set 5 | sao jose da coroa grande\n",
      "Processing Record 41 of Set 5 | beringovskiy\n",
      "Processing Record 42 of Set 5 | mingaora\n",
      "Processing Record 43 of Set 5 | pau\n",
      "Processing Record 44 of Set 5 | det udom\n",
      "Processing Record 45 of Set 5 | pangai\n",
      "Processing Record 46 of Set 5 | vao\n",
      "Processing Record 47 of Set 5 | roebourne\n",
      "Processing Record 48 of Set 5 | atar\n",
      "Processing Record 49 of Set 5 | januaria\n",
      "Processing Record 50 of Set 5 | robstown\n",
      "Processing Record 51 of Set 5 | sola\n",
      "Processing Record 52 of Set 5 | ocos\n",
      "Processing Record 53 of Set 5 | shache\n",
      "Processing Record 54 of Set 5 | touros\n",
      "Processing Record 1 of Set 6 | lavrentiya\n",
      "Processing Record 2 of Set 6 | alofi\n",
      "Processing Record 3 of Set 6 | bandarbeyla\n",
      "Processing Record 4 of Set 6 | erzurum\n",
      "Processing Record 5 of Set 6 | qaanaaq\n",
      "Processing Record 6 of Set 6 | saleaula\n",
      "City not found. Skipping...\n",
      "Processing Record 6 of Set 6 | kavaratti\n",
      "Processing Record 7 of Set 6 | mazagao\n",
      "Processing Record 8 of Set 6 | luderitz\n",
      "Processing Record 9 of Set 6 | mayo\n",
      "Processing Record 10 of Set 6 | russell\n",
      "Processing Record 11 of Set 6 | yerbogachen\n",
      "Processing Record 12 of Set 6 | verkhnevilyuysk\n",
      "Processing Record 13 of Set 6 | barentsburg\n",
      "City not found. Skipping...\n",
      "Processing Record 13 of Set 6 | phan rang\n",
      "City not found. Skipping...\n",
      "Processing Record 13 of Set 6 | haicheng\n",
      "Processing Record 14 of Set 6 | maldonado\n",
      "Processing Record 15 of Set 6 | comodoro rivadavia\n",
      "Processing Record 16 of Set 6 | chokurdakh\n",
      "Processing Record 17 of Set 6 | haines junction\n",
      "Processing Record 18 of Set 6 | severo-kurilsk\n",
      "Processing Record 19 of Set 6 | paamiut\n",
      "Processing Record 20 of Set 6 | tumannyy\n",
      "City not found. Skipping...\n",
      "Processing Record 20 of Set 6 | kegayli\n",
      "City not found. Skipping...\n",
      "Processing Record 20 of Set 6 | westport\n",
      "Processing Record 21 of Set 6 | saskylakh\n",
      "Processing Record 22 of Set 6 | bonavista\n",
      "Processing Record 23 of Set 6 | verkhniye tatyshly\n",
      "Processing Record 24 of Set 6 | bontang\n",
      "Processing Record 25 of Set 6 | vila velha\n",
      "Processing Record 26 of Set 6 | villa union\n",
      "Processing Record 27 of Set 6 | vestmannaeyjar\n",
      "Processing Record 28 of Set 6 | ijaki\n",
      "City not found. Skipping...\n",
      "Processing Record 28 of Set 6 | stanislav\n",
      "Processing Record 29 of Set 6 | derzhavinsk\n",
      "Processing Record 30 of Set 6 | cayenne\n",
      "Processing Record 31 of Set 6 | bhubaneswar\n",
      "Processing Record 32 of Set 6 | mayya\n",
      "Processing Record 33 of Set 6 | dinsor\n",
      "City not found. Skipping...\n",
      "Processing Record 33 of Set 6 | palkaka\n",
      "City not found. Skipping...\n",
      "Processing Record 33 of Set 6 | phetchaburi\n",
      "Processing Record 34 of Set 6 | valparaiso\n",
      "Processing Record 35 of Set 6 | skala\n",
      "Processing Record 36 of Set 6 | novyy nekouz\n",
      "Processing Record 37 of Set 6 | solnechnyy\n",
      "Processing Record 38 of Set 6 | longyearbyen\n",
      "Processing Record 39 of Set 6 | hayden\n",
      "Processing Record 40 of Set 6 | port hawkesbury\n",
      "Processing Record 41 of Set 6 | beauceville\n",
      "Processing Record 42 of Set 6 | vilhena\n",
      "Processing Record 43 of Set 6 | louisbourg\n",
      "City not found. Skipping...\n",
      "Processing Record 43 of Set 6 | honghu\n",
      "Processing Record 44 of Set 6 | zhuhai\n",
      "Processing Record 45 of Set 6 | andenes\n",
      "Processing Record 46 of Set 6 | pampa\n",
      "Processing Record 47 of Set 6 | nemuro\n",
      "Processing Record 48 of Set 6 | qandahar\n",
      "City not found. Skipping...\n",
      "Processing Record 48 of Set 6 | paramonga\n",
      "Processing Record 49 of Set 6 | ossora\n",
      "Processing Record 50 of Set 6 | anaco\n",
      "Processing Record 51 of Set 6 | upington\n",
      "Processing Record 52 of Set 6 | yatou\n",
      "Processing Record 53 of Set 6 | sibolga\n",
      "Processing Record 54 of Set 6 | mahibadhoo\n",
      "Processing Record 1 of Set 7 | cockburn harbour\n",
      "City not found. Skipping...\n",
      "Processing Record 1 of Set 7 | cap-aux-meules\n",
      "Processing Record 2 of Set 7 | bereda\n",
      "Processing Record 3 of Set 7 | barawe\n",
      "City not found. Skipping...\n",
      "Processing Record 3 of Set 7 | aklavik\n",
      "Processing Record 4 of Set 7 | sitka\n",
      "Processing Record 5 of Set 7 | viligili\n",
      "City not found. Skipping...\n",
      "Processing Record 5 of Set 7 | vammala\n",
      "Processing Record 6 of Set 7 | cururupu\n",
      "Processing Record 7 of Set 7 | geraldton\n"
     ]
    },
    {
     "name": "stdout",
     "output_type": "stream",
     "text": [
      "Processing Record 8 of Set 7 | awjilah\n",
      "Processing Record 9 of Set 7 | ruatoria\n",
      "City not found. Skipping...\n",
      "Processing Record 9 of Set 7 | khargone\n",
      "Processing Record 10 of Set 7 | arinos\n",
      "Processing Record 11 of Set 7 | north branch\n",
      "Processing Record 12 of Set 7 | honiara\n",
      "Processing Record 13 of Set 7 | santa isabel do rio negro\n",
      "Processing Record 14 of Set 7 | prachuap khiri khan\n",
      "Processing Record 15 of Set 7 | nyurba\n",
      "Processing Record 16 of Set 7 | bjornevatn\n",
      "Processing Record 17 of Set 7 | yomitan\n",
      "City not found. Skipping...\n",
      "Processing Record 17 of Set 7 | maku\n",
      "Processing Record 18 of Set 7 | ahuimanu\n",
      "Processing Record 19 of Set 7 | jati\n",
      "Processing Record 20 of Set 7 | manta\n",
      "Processing Record 21 of Set 7 | porto novo\n",
      "Processing Record 22 of Set 7 | bonthe\n",
      "Processing Record 23 of Set 7 | konevo\n",
      "Processing Record 24 of Set 7 | vaitupu\n",
      "City not found. Skipping...\n",
      "Processing Record 24 of Set 7 | porto walter\n",
      "Processing Record 25 of Set 7 | sioux lookout\n",
      "Processing Record 26 of Set 7 | nantucket\n",
      "Processing Record 27 of Set 7 | krasnoselkup\n",
      "Processing Record 28 of Set 7 | bafq\n",
      "Processing Record 29 of Set 7 | hobyo\n",
      "Processing Record 30 of Set 7 | christchurch\n",
      "Processing Record 31 of Set 7 | cotonou\n",
      "Processing Record 32 of Set 7 | lima\n",
      "Processing Record 33 of Set 7 | hofn\n",
      "Processing Record 34 of Set 7 | ambilobe\n",
      "Processing Record 35 of Set 7 | salinopolis\n",
      "Processing Record 36 of Set 7 | guerrero negro\n",
      "Processing Record 37 of Set 7 | mount gambier\n",
      "Processing Record 38 of Set 7 | turukhansk\n",
      "Processing Record 39 of Set 7 | isangel\n",
      "Processing Record 40 of Set 7 | kanniyakumari\n",
      "Processing Record 41 of Set 7 | broome\n",
      "Processing Record 42 of Set 7 | kidal\n",
      "Processing Record 43 of Set 7 | codajas\n",
      "Processing Record 44 of Set 7 | shaunavon\n",
      "Processing Record 45 of Set 7 | roald\n",
      "Processing Record 46 of Set 7 | sawakin\n",
      "Processing Record 47 of Set 7 | rocky mountain house\n",
      "Processing Record 48 of Set 7 | botwood\n",
      "Processing Record 49 of Set 7 | kargopol\n",
      "Processing Record 50 of Set 7 | isiro\n",
      "Processing Record 51 of Set 7 | kushmurun\n",
      "Processing Record 52 of Set 7 | emerald\n",
      "Processing Record 53 of Set 7 | am timan\n",
      "Processing Record 54 of Set 7 | chernyshevskiy\n",
      "Processing Record 1 of Set 8 | sobradinho\n",
      "Processing Record 2 of Set 8 | asau\n",
      "Processing Record 3 of Set 8 | brandon\n",
      "Processing Record 4 of Set 8 | salta\n",
      "Processing Record 5 of Set 8 | pingzhuang\n",
      "Processing Record 6 of Set 8 | tabiauea\n",
      "City not found. Skipping...\n",
      "Processing Record 6 of Set 8 | coquimbo\n",
      "Processing Record 7 of Set 8 | amberley\n",
      "Processing Record 8 of Set 8 | constitucion\n",
      "Processing Record 9 of Set 8 | cravo norte\n",
      "Processing Record 10 of Set 8 | sentyabrskiy\n",
      "City not found. Skipping...\n",
      "Processing Record 10 of Set 8 | petropavlovsk-kamchatskiy\n",
      "Processing Record 11 of Set 8 | aripuana\n",
      "Processing Record 12 of Set 8 | saint-georges\n",
      "Processing Record 13 of Set 8 | bilma\n",
      "Processing Record 14 of Set 8 | west wendover\n",
      "Processing Record 15 of Set 8 | nokaneng\n",
      "Processing Record 16 of Set 8 | cam pha\n",
      "City not found. Skipping...\n",
      "Processing Record 16 of Set 8 | partenit\n",
      "Processing Record 17 of Set 8 | padang\n",
      "Processing Record 18 of Set 8 | chifeng\n",
      "Processing Record 19 of Set 8 | srednekolymsk\n",
      "Processing Record 20 of Set 8 | shar\n",
      "Processing Record 21 of Set 8 | awbari\n",
      "Processing Record 22 of Set 8 | gobabis\n",
      "Processing Record 23 of Set 8 | port-gentil\n",
      "Processing Record 24 of Set 8 | marawi\n",
      "Processing Record 25 of Set 8 | tambo\n",
      "Processing Record 26 of Set 8 | pacific grove\n",
      "Processing Record 27 of Set 8 | dzilam gonzalez\n",
      "Processing Record 28 of Set 8 | rawson\n",
      "Processing Record 29 of Set 8 | ahipara\n",
      "Processing Record 30 of Set 8 | rovaniemi\n",
      "Processing Record 31 of Set 8 | klyuchevskiy\n",
      "Processing Record 32 of Set 8 | mergui\n",
      "City not found. Skipping...\n",
      "Processing Record 32 of Set 8 | kangaba\n",
      "Processing Record 33 of Set 8 | los lunas\n",
      "Processing Record 34 of Set 8 | bundibugyo\n",
      "Processing Record 35 of Set 8 | dormidontovka\n",
      "Processing Record 36 of Set 8 | dunedin\n",
      "Processing Record 37 of Set 8 | luganville\n",
      "Processing Record 38 of Set 8 | myitkyina\n",
      "Processing Record 39 of Set 8 | te anau\n",
      "Processing Record 40 of Set 8 | zhangye\n",
      "Processing Record 41 of Set 8 | baracoa\n",
      "Processing Record 42 of Set 8 | port lincoln\n",
      "Processing Record 43 of Set 8 | olkhovka\n",
      "Processing Record 44 of Set 8 | burgersdorp\n",
      "Processing Record 45 of Set 8 | havoysund\n",
      "Processing Record 46 of Set 8 | hastings\n",
      "Processing Record 47 of Set 8 | chapais\n",
      "Processing Record 48 of Set 8 | san cristobal\n",
      "Processing Record 49 of Set 8 | santa rosa\n",
      "Processing Record 50 of Set 8 | chuy\n",
      "Processing Record 51 of Set 8 | jacobabad\n",
      "Processing Record 52 of Set 8 | hervey bay\n",
      "Processing Record 53 of Set 8 | vallenar\n",
      "Processing Record 54 of Set 8 | lata\n",
      "Processing Record 1 of Set 9 | gazanjyk\n",
      "Processing Record 2 of Set 9 | tafresh\n",
      "Processing Record 3 of Set 9 | hirara\n",
      "Processing Record 4 of Set 9 | birao\n",
      "Processing Record 5 of Set 9 | hailar\n",
      "Processing Record 6 of Set 9 | paredon\n",
      "Processing Record 7 of Set 9 | jeremie\n",
      "Processing Record 8 of Set 9 | camopi\n",
      "Processing Record 9 of Set 9 | lagos\n",
      "Processing Record 10 of Set 9 | lerwick\n",
      "Processing Record 11 of Set 9 | laguna\n",
      "Processing Record 12 of Set 9 | goteborg\n",
      "City not found. Skipping...\n",
      "Processing Record 12 of Set 9 | bowen\n",
      "Processing Record 13 of Set 9 | saint-pierre\n",
      "Processing Record 14 of Set 9 | hasaki\n",
      "Processing Record 15 of Set 9 | nam tha\n",
      "City not found. Skipping...\n",
      "Processing Record 15 of Set 9 | talnakh\n",
      "Processing Record 16 of Set 9 | zheleznogorsk-ilimskiy\n",
      "Processing Record 17 of Set 9 | kavant\n",
      "City not found. Skipping...\n",
      "Processing Record 17 of Set 9 | yokadouma\n",
      "Processing Record 18 of Set 9 | calabozo\n",
      "Processing Record 19 of Set 9 | sabha\n",
      "Processing Record 20 of Set 9 | khani\n",
      "Processing Record 21 of Set 9 | antofagasta\n",
      "Processing Record 22 of Set 9 | xiaoweizhai\n",
      "Processing Record 23 of Set 9 | samalaeulu\n",
      "City not found. Skipping...\n",
      "Processing Record 23 of Set 9 | santa cruz de la palma\n",
      "Processing Record 24 of Set 9 | omsukchan\n",
      "Processing Record 25 of Set 9 | mezen\n",
      "Processing Record 26 of Set 9 | takoradi\n",
      "Processing Record 27 of Set 9 | sri aman\n",
      "Processing Record 28 of Set 9 | inirida\n",
      "Processing Record 29 of Set 9 | college\n",
      "Processing Record 30 of Set 9 | aykino\n",
      "Processing Record 31 of Set 9 | zhuravky\n",
      "Processing Record 32 of Set 9 | acarau\n",
      "Processing Record 33 of Set 9 | itupiranga\n",
      "Processing Record 34 of Set 9 | saint-joseph\n",
      "Processing Record 35 of Set 9 | kostino\n",
      "Processing Record 36 of Set 9 | lagoa\n",
      "Processing Record 37 of Set 9 | swift current\n",
      "Processing Record 38 of Set 9 | dingle\n",
      "Processing Record 39 of Set 9 | peniche\n",
      "Processing Record 40 of Set 9 | cooma\n",
      "Processing Record 41 of Set 9 | erenhot\n",
      "Processing Record 42 of Set 9 | hamilton\n",
      "Processing Record 43 of Set 9 | okakarara\n",
      "Processing Record 44 of Set 9 | amaigbo\n",
      "Processing Record 45 of Set 9 | turtas\n",
      "Processing Record 46 of Set 9 | kampot\n",
      "Processing Record 47 of Set 9 | east london\n",
      "Processing Record 48 of Set 9 | dunmore town\n",
      "Processing Record 49 of Set 9 | rio gallegos\n",
      "Processing Record 50 of Set 9 | marrakesh\n",
      "Processing Record 51 of Set 9 | anito\n",
      "Processing Record 52 of Set 9 | pelotas\n",
      "Processing Record 53 of Set 9 | gat\n",
      "Processing Record 54 of Set 9 | belaya gora\n",
      "Processing Record 1 of Set 10 | peterhead\n",
      "Processing Record 2 of Set 10 | pangnirtung\n",
      "Processing Record 3 of Set 10 | najran\n",
      "Processing Record 4 of Set 10 | nichinan\n",
      "Processing Record 5 of Set 10 | praia\n",
      "Processing Record 6 of Set 10 | antissa\n",
      "City not found. Skipping...\n",
      "Processing Record 6 of Set 10 | nabire\n",
      "Processing Record 7 of Set 10 | santa fe\n",
      "Processing Record 8 of Set 10 | ponta delgada\n",
      "Processing Record 9 of Set 10 | spornoye\n",
      "Processing Record 10 of Set 10 | uong bi\n",
      "Processing Record 11 of Set 10 | bam\n",
      "Processing Record 12 of Set 10 | mount isa\n",
      "Processing Record 13 of Set 10 | basqal\n",
      "Processing Record 14 of Set 10 | muyezerskiy\n",
      "Processing Record 15 of Set 10 | luena\n",
      "Processing Record 16 of Set 10 | siena\n",
      "Processing Record 17 of Set 10 | tabas\n",
      "Processing Record 18 of Set 10 | ghauspur\n",
      "Processing Record 19 of Set 10 | hailey\n",
      "Processing Record 20 of Set 10 | hay river\n",
      "Processing Record 21 of Set 10 | lolua\n",
      "City not found. Skipping...\n",
      "Processing Record 21 of Set 10 | moses lake\n",
      "Processing Record 22 of Set 10 | koani\n",
      "Processing Record 23 of Set 10 | tete\n"
     ]
    },
    {
     "name": "stdout",
     "output_type": "stream",
     "text": [
      "Processing Record 24 of Set 10 | lakota\n",
      "Processing Record 25 of Set 10 | margate\n",
      "Processing Record 26 of Set 10 | makakilo city\n",
      "Processing Record 27 of Set 10 | mathbaria\n",
      "Processing Record 28 of Set 10 | juneau\n",
      "Processing Record 29 of Set 10 | bilibino\n",
      "Processing Record 30 of Set 10 | malakal\n",
      "Processing Record 31 of Set 10 | nueve de julio\n",
      "Processing Record 32 of Set 10 | baft\n",
      "Processing Record 33 of Set 10 | aksarayskiy\n",
      "Processing Record 34 of Set 10 | katobu\n",
      "Processing Record 35 of Set 10 | riachao\n",
      "Processing Record 36 of Set 10 | kloulklubed\n",
      "Processing Record 37 of Set 10 | zhanakorgan\n",
      "Processing Record 38 of Set 10 | hirado\n",
      "Processing Record 39 of Set 10 | kabwe\n",
      "Processing Record 40 of Set 10 | mackay\n",
      "Processing Record 41 of Set 10 | changqing\n",
      "Processing Record 42 of Set 10 | bairiki\n",
      "Processing Record 43 of Set 10 | oussouye\n",
      "Processing Record 44 of Set 10 | houma\n",
      "Processing Record 45 of Set 10 | rudbar\n",
      "Processing Record 46 of Set 10 | gambiran\n",
      "Processing Record 47 of Set 10 | karaul\n",
      "City not found. Skipping...\n",
      "Processing Record 47 of Set 10 | hoi an\n",
      "Processing Record 48 of Set 10 | machachi\n",
      "Processing Record 49 of Set 10 | kabo\n",
      "Processing Record 50 of Set 10 | vardo\n",
      "Processing Record 51 of Set 10 | panji\n",
      "Processing Record 52 of Set 10 | hanko\n",
      "Processing Record 53 of Set 10 | shieli\n",
      "Processing Record 54 of Set 10 | umzimvubu\n",
      "City not found. Skipping...\n",
      "Processing Record 54 of Set 10 | syracuse\n",
      "Processing Record 1 of Set 11 | itarema\n",
      "Processing Record 2 of Set 11 | suntar\n",
      "Processing Record 3 of Set 11 | acapulco\n",
      "Processing Record 4 of Set 11 | salihli\n",
      "Processing Record 5 of Set 11 | gornopravdinsk\n",
      "Processing Record 6 of Set 11 | mana\n",
      "Processing Record 7 of Set 11 | envira\n",
      "Processing Record 8 of Set 11 | calderitas\n",
      "Processing Record 9 of Set 11 | blackfoot\n",
      "Processing Record 10 of Set 11 | saint anthony\n",
      "Processing Record 11 of Set 11 | qandala\n",
      "Processing Record 12 of Set 11 | sistranda\n",
      "Processing Record 13 of Set 11 | paita\n",
      "Processing Record 14 of Set 11 | san andres\n",
      "Processing Record 15 of Set 11 | mindelo\n",
      "Processing Record 16 of Set 11 | svarychiv\n",
      "Processing Record 17 of Set 11 | sylacauga\n",
      "Processing Record 18 of Set 11 | tarko-sale\n",
      "Processing Record 19 of Set 11 | ho\n",
      "City not found. Skipping...\n",
      "Processing Record 19 of Set 11 | sorvag\n",
      "City not found. Skipping...\n",
      "Processing Record 19 of Set 11 | miyang\n",
      "Processing Record 20 of Set 11 | pestyaki\n",
      "Processing Record 21 of Set 11 | mosquera\n",
      "Processing Record 22 of Set 11 | san nicolas\n",
      "Processing Record 23 of Set 11 | nguiu\n",
      "City not found. Skipping...\n",
      "-----------------------------\n",
      "Data Retrieval Complete\n",
      "-----------------------------\n"
     ]
    }
   ],
   "source": [
    "#save api_key info\n",
    "url =\"http://api.openweathermap.org/data/2.5/weather?\"\n",
    "units = \"imperial\"\n",
    "\n",
    "city_info = []\n",
    "\n",
    "record_num = 1\n",
    "of_set_num = 1\n",
    "\n",
    "\n",
    "print(\"Beginning Data Retrieval\")\n",
    "print(\"-----------------------------\")\n",
    "\n",
    "#weather check on each city through looping and try and catch. \n",
    "#.enumerate()\n",
    "for i, city in enumerate(cities):\n",
    "    \n",
    "#build request query url \n",
    "#request results in imperial (Fahrenheit)\n",
    "    query_url = f\"{url}appid={weather_api_key}&units={units}\"\n",
    "   \n",
    "        \n",
    "    try:\n",
    "\n",
    "        print(f\"Processing Record {record_num} of Set {of_set_num} | {city}\")\n",
    "        weather_response = requests.get(f\"{query_url}&q={city}\")\n",
    "        weather_json = weather_response.json()\n",
    "\n",
    "        \n",
    "        lat = weather_json[\"coord\"][\"lat\"]\n",
    "        lng = weather_json[\"coord\"][\"lon\"]\n",
    "        max_temp = weather_json[\"main\"][\"temp_max\"]\n",
    "        humidity = weather_json[\"main\"][\"humidity\"]\n",
    "        cloudiness = weather_json[\"clouds\"][\"all\"]\n",
    "        wind_speed = weather_json[\"wind\"][\"speed\"]\n",
    "        country = weather_json[\"sys\"][\"country\"]\n",
    "        date = weather_json[\"dt\"]\n",
    "        \n",
    "        city_info.append({\"City\":city,\"Lat\":lat,\"Lng\":lng,\"Max Temp\":max_temp,\"Humidity\":humidity,\n",
    "                          \"Cloudiness\":cloudiness,\"Wind Speed\":wind_speed,\"Country\":country,\"Date\":date})\n",
    "        \n",
    "        record_num +=1 \n",
    "        \n",
    "    except (KeyError, IndexError):\n",
    "        print(\"City not found. Skipping...\")\n",
    "    \n",
    "    #pause for 30 secs\n",
    "    if record_num == 55:\n",
    "        of_set_num += 1\n",
    "        record_num = 1\n",
    "       \n",
    "        time.sleep(30)\n",
    "print(\"-----------------------------\")\n",
    "print(\"Data Retrieval Complete\")\n",
    "print(\"-----------------------------\")"
   ]
  },
  {
   "cell_type": "code",
   "execution_count": 5,
   "metadata": {},
   "outputs": [
    {
     "name": "stdout",
     "output_type": "stream",
     "text": [
      "-----------------------------\n",
      "Data Retrieval Complete\n",
      "-----------------------------\n"
     ]
    }
   ],
   "source": [
    "print(\"-----------------------------\")\n",
    "print(\"Data Retrieval Complete\")\n",
    "print(\"-----------------------------\")"
   ]
  },
  {
   "cell_type": "markdown",
   "metadata": {},
   "source": [
    "### Convert Raw Data to DataFrame\n",
    "* Export the city data into a .csv.\n",
    "* Display the DataFrame"
   ]
  },
  {
   "cell_type": "code",
   "execution_count": 6,
   "metadata": {},
   "outputs": [
    {
     "data": {
      "text/html": [
       "<div>\n",
       "<style scoped>\n",
       "    .dataframe tbody tr th:only-of-type {\n",
       "        vertical-align: middle;\n",
       "    }\n",
       "\n",
       "    .dataframe tbody tr th {\n",
       "        vertical-align: top;\n",
       "    }\n",
       "\n",
       "    .dataframe thead th {\n",
       "        text-align: right;\n",
       "    }\n",
       "</style>\n",
       "<table border=\"1\" class=\"dataframe\">\n",
       "  <thead>\n",
       "    <tr style=\"text-align: right;\">\n",
       "      <th></th>\n",
       "      <th>City</th>\n",
       "      <th>Lat</th>\n",
       "      <th>Lng</th>\n",
       "      <th>Max Temp</th>\n",
       "      <th>Humidity</th>\n",
       "      <th>Cloudiness</th>\n",
       "      <th>Wind Speed</th>\n",
       "      <th>Country</th>\n",
       "      <th>Date</th>\n",
       "    </tr>\n",
       "  </thead>\n",
       "  <tbody>\n",
       "    <tr>\n",
       "      <th>0</th>\n",
       "      <td>tuktoyaktuk</td>\n",
       "      <td>69.45</td>\n",
       "      <td>-133.04</td>\n",
       "      <td>10.40</td>\n",
       "      <td>92</td>\n",
       "      <td>90</td>\n",
       "      <td>16.11</td>\n",
       "      <td>CA</td>\n",
       "      <td>1603855047</td>\n",
       "    </tr>\n",
       "    <tr>\n",
       "      <th>1</th>\n",
       "      <td>ushuaia</td>\n",
       "      <td>-54.80</td>\n",
       "      <td>-68.30</td>\n",
       "      <td>44.60</td>\n",
       "      <td>42</td>\n",
       "      <td>40</td>\n",
       "      <td>13.87</td>\n",
       "      <td>AR</td>\n",
       "      <td>1603854789</td>\n",
       "    </tr>\n",
       "    <tr>\n",
       "      <th>2</th>\n",
       "      <td>thompson</td>\n",
       "      <td>55.74</td>\n",
       "      <td>-97.86</td>\n",
       "      <td>17.60</td>\n",
       "      <td>78</td>\n",
       "      <td>75</td>\n",
       "      <td>5.82</td>\n",
       "      <td>CA</td>\n",
       "      <td>1603855048</td>\n",
       "    </tr>\n",
       "    <tr>\n",
       "      <th>3</th>\n",
       "      <td>were ilu</td>\n",
       "      <td>10.60</td>\n",
       "      <td>39.43</td>\n",
       "      <td>43.79</td>\n",
       "      <td>67</td>\n",
       "      <td>0</td>\n",
       "      <td>5.57</td>\n",
       "      <td>ET</td>\n",
       "      <td>1603854969</td>\n",
       "    </tr>\n",
       "    <tr>\n",
       "      <th>4</th>\n",
       "      <td>codigoro</td>\n",
       "      <td>44.83</td>\n",
       "      <td>12.11</td>\n",
       "      <td>50.00</td>\n",
       "      <td>87</td>\n",
       "      <td>0</td>\n",
       "      <td>3.36</td>\n",
       "      <td>IT</td>\n",
       "      <td>1603855048</td>\n",
       "    </tr>\n",
       "    <tr>\n",
       "      <th>...</th>\n",
       "      <td>...</td>\n",
       "      <td>...</td>\n",
       "      <td>...</td>\n",
       "      <td>...</td>\n",
       "      <td>...</td>\n",
       "      <td>...</td>\n",
       "      <td>...</td>\n",
       "      <td>...</td>\n",
       "      <td>...</td>\n",
       "    </tr>\n",
       "    <tr>\n",
       "      <th>557</th>\n",
       "      <td>tarko-sale</td>\n",
       "      <td>64.92</td>\n",
       "      <td>77.78</td>\n",
       "      <td>0.36</td>\n",
       "      <td>90</td>\n",
       "      <td>0</td>\n",
       "      <td>13.85</td>\n",
       "      <td>RU</td>\n",
       "      <td>1603855440</td>\n",
       "    </tr>\n",
       "    <tr>\n",
       "      <th>558</th>\n",
       "      <td>miyang</td>\n",
       "      <td>24.40</td>\n",
       "      <td>103.44</td>\n",
       "      <td>67.26</td>\n",
       "      <td>75</td>\n",
       "      <td>100</td>\n",
       "      <td>1.52</td>\n",
       "      <td>CN</td>\n",
       "      <td>1603855441</td>\n",
       "    </tr>\n",
       "    <tr>\n",
       "      <th>559</th>\n",
       "      <td>pestyaki</td>\n",
       "      <td>56.71</td>\n",
       "      <td>42.67</td>\n",
       "      <td>34.81</td>\n",
       "      <td>88</td>\n",
       "      <td>30</td>\n",
       "      <td>8.93</td>\n",
       "      <td>RU</td>\n",
       "      <td>1603855441</td>\n",
       "    </tr>\n",
       "    <tr>\n",
       "      <th>560</th>\n",
       "      <td>mosquera</td>\n",
       "      <td>4.71</td>\n",
       "      <td>-74.23</td>\n",
       "      <td>57.20</td>\n",
       "      <td>87</td>\n",
       "      <td>40</td>\n",
       "      <td>2.24</td>\n",
       "      <td>CO</td>\n",
       "      <td>1603855441</td>\n",
       "    </tr>\n",
       "    <tr>\n",
       "      <th>561</th>\n",
       "      <td>san nicolas</td>\n",
       "      <td>18.17</td>\n",
       "      <td>120.60</td>\n",
       "      <td>87.80</td>\n",
       "      <td>79</td>\n",
       "      <td>75</td>\n",
       "      <td>8.05</td>\n",
       "      <td>PH</td>\n",
       "      <td>1603855441</td>\n",
       "    </tr>\n",
       "  </tbody>\n",
       "</table>\n",
       "<p>562 rows × 9 columns</p>\n",
       "</div>"
      ],
      "text/plain": [
       "            City    Lat     Lng  Max Temp  Humidity  Cloudiness  Wind Speed  \\\n",
       "0    tuktoyaktuk  69.45 -133.04     10.40        92          90       16.11   \n",
       "1        ushuaia -54.80  -68.30     44.60        42          40       13.87   \n",
       "2       thompson  55.74  -97.86     17.60        78          75        5.82   \n",
       "3       were ilu  10.60   39.43     43.79        67           0        5.57   \n",
       "4       codigoro  44.83   12.11     50.00        87           0        3.36   \n",
       "..           ...    ...     ...       ...       ...         ...         ...   \n",
       "557   tarko-sale  64.92   77.78      0.36        90           0       13.85   \n",
       "558       miyang  24.40  103.44     67.26        75         100        1.52   \n",
       "559     pestyaki  56.71   42.67     34.81        88          30        8.93   \n",
       "560     mosquera   4.71  -74.23     57.20        87          40        2.24   \n",
       "561  san nicolas  18.17  120.60     87.80        79          75        8.05   \n",
       "\n",
       "    Country        Date  \n",
       "0        CA  1603855047  \n",
       "1        AR  1603854789  \n",
       "2        CA  1603855048  \n",
       "3        ET  1603854969  \n",
       "4        IT  1603855048  \n",
       "..      ...         ...  \n",
       "557      RU  1603855440  \n",
       "558      CN  1603855441  \n",
       "559      RU  1603855441  \n",
       "560      CO  1603855441  \n",
       "561      PH  1603855441  \n",
       "\n",
       "[562 rows x 9 columns]"
      ]
     },
     "execution_count": 6,
     "metadata": {},
     "output_type": "execute_result"
    }
   ],
   "source": [
    "city_info_DF = pd.DataFrame(city_info)\n",
    "\n",
    "city_info_DF.to_csv(\"../output_data/cities.csv\", encoding=\"utf-8\",index=False)\n",
    "city_info_DF\n"
   ]
  },
  {
   "cell_type": "code",
   "execution_count": 7,
   "metadata": {},
   "outputs": [
    {
     "data": {
      "text/html": [
       "<div>\n",
       "<style scoped>\n",
       "    .dataframe tbody tr th:only-of-type {\n",
       "        vertical-align: middle;\n",
       "    }\n",
       "\n",
       "    .dataframe tbody tr th {\n",
       "        vertical-align: top;\n",
       "    }\n",
       "\n",
       "    .dataframe thead th {\n",
       "        text-align: right;\n",
       "    }\n",
       "</style>\n",
       "<table border=\"1\" class=\"dataframe\">\n",
       "  <thead>\n",
       "    <tr style=\"text-align: right;\">\n",
       "      <th></th>\n",
       "      <th>Lat</th>\n",
       "      <th>Lng</th>\n",
       "      <th>Max Temp</th>\n",
       "      <th>Humidity</th>\n",
       "      <th>Cloudiness</th>\n",
       "      <th>Wind Speed</th>\n",
       "      <th>Date</th>\n",
       "    </tr>\n",
       "  </thead>\n",
       "  <tbody>\n",
       "    <tr>\n",
       "      <th>count</th>\n",
       "      <td>562.000000</td>\n",
       "      <td>562.000000</td>\n",
       "      <td>562.000000</td>\n",
       "      <td>562.000000</td>\n",
       "      <td>562.000000</td>\n",
       "      <td>562.000000</td>\n",
       "      <td>5.620000e+02</td>\n",
       "    </tr>\n",
       "    <tr>\n",
       "      <th>mean</th>\n",
       "      <td>20.776281</td>\n",
       "      <td>12.986068</td>\n",
       "      <td>57.231566</td>\n",
       "      <td>74.580071</td>\n",
       "      <td>52.950178</td>\n",
       "      <td>7.391281</td>\n",
       "      <td>1.603855e+09</td>\n",
       "    </tr>\n",
       "    <tr>\n",
       "      <th>std</th>\n",
       "      <td>33.402710</td>\n",
       "      <td>89.848627</td>\n",
       "      <td>21.871499</td>\n",
       "      <td>18.834342</td>\n",
       "      <td>39.717106</td>\n",
       "      <td>5.391333</td>\n",
       "      <td>1.400025e+02</td>\n",
       "    </tr>\n",
       "    <tr>\n",
       "      <th>min</th>\n",
       "      <td>-54.800000</td>\n",
       "      <td>-179.170000</td>\n",
       "      <td>-6.210000</td>\n",
       "      <td>7.000000</td>\n",
       "      <td>0.000000</td>\n",
       "      <td>0.220000</td>\n",
       "      <td>1.603855e+09</td>\n",
       "    </tr>\n",
       "    <tr>\n",
       "      <th>25%</th>\n",
       "      <td>-6.512500</td>\n",
       "      <td>-65.080000</td>\n",
       "      <td>41.000000</td>\n",
       "      <td>65.000000</td>\n",
       "      <td>4.000000</td>\n",
       "      <td>3.360000</td>\n",
       "      <td>1.603855e+09</td>\n",
       "    </tr>\n",
       "    <tr>\n",
       "      <th>50%</th>\n",
       "      <td>25.440000</td>\n",
       "      <td>17.685000</td>\n",
       "      <td>61.935000</td>\n",
       "      <td>79.000000</td>\n",
       "      <td>63.500000</td>\n",
       "      <td>5.820000</td>\n",
       "      <td>1.603855e+09</td>\n",
       "    </tr>\n",
       "    <tr>\n",
       "      <th>75%</th>\n",
       "      <td>49.080000</td>\n",
       "      <td>88.342500</td>\n",
       "      <td>75.630000</td>\n",
       "      <td>88.000000</td>\n",
       "      <td>90.000000</td>\n",
       "      <td>10.432500</td>\n",
       "      <td>1.603855e+09</td>\n",
       "    </tr>\n",
       "    <tr>\n",
       "      <th>max</th>\n",
       "      <td>78.220000</td>\n",
       "      <td>179.320000</td>\n",
       "      <td>94.060000</td>\n",
       "      <td>100.000000</td>\n",
       "      <td>100.000000</td>\n",
       "      <td>41.380000</td>\n",
       "      <td>1.603855e+09</td>\n",
       "    </tr>\n",
       "  </tbody>\n",
       "</table>\n",
       "</div>"
      ],
      "text/plain": [
       "              Lat         Lng    Max Temp    Humidity  Cloudiness  Wind Speed  \\\n",
       "count  562.000000  562.000000  562.000000  562.000000  562.000000  562.000000   \n",
       "mean    20.776281   12.986068   57.231566   74.580071   52.950178    7.391281   \n",
       "std     33.402710   89.848627   21.871499   18.834342   39.717106    5.391333   \n",
       "min    -54.800000 -179.170000   -6.210000    7.000000    0.000000    0.220000   \n",
       "25%     -6.512500  -65.080000   41.000000   65.000000    4.000000    3.360000   \n",
       "50%     25.440000   17.685000   61.935000   79.000000   63.500000    5.820000   \n",
       "75%     49.080000   88.342500   75.630000   88.000000   90.000000   10.432500   \n",
       "max     78.220000  179.320000   94.060000  100.000000  100.000000   41.380000   \n",
       "\n",
       "               Date  \n",
       "count  5.620000e+02  \n",
       "mean   1.603855e+09  \n",
       "std    1.400025e+02  \n",
       "min    1.603855e+09  \n",
       "25%    1.603855e+09  \n",
       "50%    1.603855e+09  \n",
       "75%    1.603855e+09  \n",
       "max    1.603855e+09  "
      ]
     },
     "execution_count": 7,
     "metadata": {},
     "output_type": "execute_result"
    }
   ],
   "source": [
    "city_info_DF.describe()"
   ]
  },
  {
   "cell_type": "markdown",
   "metadata": {},
   "source": [
    "## Plotting the Data\n",
    "* Use proper labeling of the plots using plot titles (including date of analysis) and axes labels.\n",
    "* Save the plotted figures as .pngs."
   ]
  },
  {
   "cell_type": "markdown",
   "metadata": {},
   "source": [
    "## Latitude vs. Temperature Plot"
   ]
  },
  {
   "cell_type": "code",
   "execution_count": 11,
   "metadata": {
    "scrolled": true
   },
   "outputs": [
    {
     "data": {
      "image/png": "[encoded data removed]",
      "text/plain": [
       "<Figure size 432x288 with 1 Axes>"
      ]
     },
     "metadata": {
      "needs_background": "light"
     },
     "output_type": "display_data"
    }
   ],
   "source": [
    "plt.scatter(city_info_DF[\"Lat\"],city_info_DF[\"Max Temp\"])\n",
    "plt.xlabel(\"Latitude\")\n",
    "plt.ylabel(\"Max Temperature (F)\")\n",
    "plt.title(\"City Latitude vs Max Temperature\")\n",
    "plt.grid(True)\n",
    "\n",
    "plt.savefig(\"../output_data/Lat_vs_Temp_plot.png\")"
   ]
  },
  {
   "cell_type": "code",
   "execution_count": null,
   "metadata": {},
   "outputs": [],
   "source": [
    "#After each plot add a sentence or too explaining what the code is and analyzing\n",
    "#This scatter plot is looking at the relationship between the city latitue and the max temperature. From this graph you can see that the equator is where the temperature peaks. At any degree to the left or right of that Latitude, the temperature decreases. Hence why the latitude is the \"standard\"/point of measurement in relation to all other points.\n"
   ]
  },
  {
   "cell_type": "markdown",
   "metadata": {},
   "source": [
    "## Latitude vs. Humidity Plot"
   ]
  },
  {
   "cell_type": "code",
   "execution_count": 12,
   "metadata": {},
   "outputs": [
    {
     "data": {
      "image/png": "[encoded data removed]",
      "text/plain": [
       "<Figure size 432x288 with 1 Axes>"
      ]
     },
     "metadata": {
      "needs_background": "light"
     },
     "output_type": "display_data"
    }
   ],
   "source": [
    "plt.scatter(city_info_DF[\"Lat\"],city_info_DF[\"Humidity\"])\n",
    "plt.xlabel(\"Latitude\")\n",
    "plt.ylabel(\"Humidity %\")\n",
    "plt.title(\"City Latitude vs Humidity\")\n",
    "plt.grid(True)\n",
    "\n",
    "plt.savefig(\"../output_data/Lat_vs_Humidity_plot.png\")"
   ]
  },
  {
   "cell_type": "code",
   "execution_count": null,
   "metadata": {},
   "outputs": [],
   "source": [
    "#After each plot add a sentence or too explaining what the code is and analyzing\n",
    "#Again, using the 0 Latitude as reference, the above graph show that there isn't really a trend as far as humditify in relation to the equator. {ossibly that humidity tends to be higher for most cities but not all.}"
   ]
  },
  {
   "cell_type": "markdown",
   "metadata": {},
   "source": [
    "## Latitude vs. Cloudiness Plot"
   ]
  },
  {
   "cell_type": "code",
   "execution_count": 13,
   "metadata": {},
   "outputs": [
    {
     "data": {
      "image/png": "[encoded data removed]",
      "text/plain": [
       "<Figure size 432x288 with 1 Axes>"
      ]
     },
     "metadata": {
      "needs_background": "light"
     },
     "output_type": "display_data"
    }
   ],
   "source": [
    "plt.scatter(city_info_DF[\"Lat\"],city_info_DF[\"Cloudiness\"])\n",
    "plt.xlabel(\"Latitude\")\n",
    "plt.ylabel(\"Cloudiness %\")\n",
    "plt.title(\"City Latitude vs Cloudiness\")\n",
    "plt.grid(True)\n",
    "\n",
    "plt.savefig(\"../output_data/Lat_vs_Cloudiness_plot.png\")"
   ]
  },
  {
   "cell_type": "code",
   "execution_count": null,
   "metadata": {},
   "outputs": [],
   "source": [
    "#After each plot add a sentence or too explaining what the code is and analyzing\n",
    "#Using the latitude as your x value, we can determine from the graph that no matter whetere we go higher or lower, there doesn't appear to be a relationship between the cloudiness and the latitude. From the graph we cannot determine a posisite or negative trend that would suggest relation between the x and y axis."
   ]
  },
  {
   "cell_type": "markdown",
   "metadata": {},
   "source": [
    "## Latitude vs. Wind Speed Plot"
   ]
  },
  {
   "cell_type": "code",
   "execution_count": 14,
   "metadata": {},
   "outputs": [
    {
     "data": {
      "image/png": "[encoded data removed]",
      "text/plain": [
       "<Figure size 432x288 with 1 Axes>"
      ]
     },
     "metadata": {
      "needs_background": "light"
     },
     "output_type": "display_data"
    }
   ],
   "source": [
    "plt.scatter(city_info_DF[\"Lat\"],city_info_DF[\"Wind Speed\"])\n",
    "plt.xlabel(\"Latitude\")\n",
    "plt.ylabel(\"Wind Speed (mph)\")\n",
    "plt.title(\"City Latitude vs Wind Speed\")\n",
    "plt.grid(True)\n",
    "\n",
    "plt.savefig(\"../output_data/Lat_vs_Wind_Speed plot.png\")"
   ]
  },
  {
   "cell_type": "code",
   "execution_count": null,
   "metadata": {},
   "outputs": [],
   "source": [
    "#After each plot add a sentence or too explaining what the code is and analyzing\n",
    "#From the above graph, aside from an outlier, we don't really see a positive or negative trend amongst the cities with latitudes higher or lower than 0. Wind speeds for the cities tend to be random/rather low."
   ]
  },
  {
   "cell_type": "markdown",
   "metadata": {},
   "source": [
    "## Linear Regression"
   ]
  },
  {
   "cell_type": "code",
   "execution_count": 15,
   "metadata": {},
   "outputs": [
    {
     "data": {
      "text/html": [
       "<div>\n",
       "<style scoped>\n",
       "    .dataframe tbody tr th:only-of-type {\n",
       "        vertical-align: middle;\n",
       "    }\n",
       "\n",
       "    .dataframe tbody tr th {\n",
       "        vertical-align: top;\n",
       "    }\n",
       "\n",
       "    .dataframe thead th {\n",
       "        text-align: right;\n",
       "    }\n",
       "</style>\n",
       "<table border=\"1\" class=\"dataframe\">\n",
       "  <thead>\n",
       "    <tr style=\"text-align: right;\">\n",
       "      <th></th>\n",
       "      <th>City</th>\n",
       "      <th>Lat</th>\n",
       "      <th>Lng</th>\n",
       "      <th>Max Temp</th>\n",
       "      <th>Humidity</th>\n",
       "      <th>Cloudiness</th>\n",
       "      <th>Wind Speed</th>\n",
       "      <th>Country</th>\n",
       "      <th>Date</th>\n",
       "    </tr>\n",
       "  </thead>\n",
       "  <tbody>\n",
       "    <tr>\n",
       "      <th>1</th>\n",
       "      <td>ushuaia</td>\n",
       "      <td>-54.80</td>\n",
       "      <td>-68.30</td>\n",
       "      <td>44.60</td>\n",
       "      <td>42</td>\n",
       "      <td>40</td>\n",
       "      <td>13.87</td>\n",
       "      <td>AR</td>\n",
       "      <td>1603854789</td>\n",
       "    </tr>\n",
       "    <tr>\n",
       "      <th>8</th>\n",
       "      <td>rikitea</td>\n",
       "      <td>-23.12</td>\n",
       "      <td>-134.97</td>\n",
       "      <td>75.45</td>\n",
       "      <td>84</td>\n",
       "      <td>100</td>\n",
       "      <td>14.90</td>\n",
       "      <td>PF</td>\n",
       "      <td>1603855048</td>\n",
       "    </tr>\n",
       "    <tr>\n",
       "      <th>10</th>\n",
       "      <td>puerto ayora</td>\n",
       "      <td>-0.74</td>\n",
       "      <td>-90.35</td>\n",
       "      <td>68.00</td>\n",
       "      <td>95</td>\n",
       "      <td>99</td>\n",
       "      <td>1.01</td>\n",
       "      <td>EC</td>\n",
       "      <td>1603855049</td>\n",
       "    </tr>\n",
       "    <tr>\n",
       "      <th>13</th>\n",
       "      <td>arraial do cabo</td>\n",
       "      <td>-22.97</td>\n",
       "      <td>-42.03</td>\n",
       "      <td>72.77</td>\n",
       "      <td>90</td>\n",
       "      <td>26</td>\n",
       "      <td>19.66</td>\n",
       "      <td>BR</td>\n",
       "      <td>1603855049</td>\n",
       "    </tr>\n",
       "    <tr>\n",
       "      <th>20</th>\n",
       "      <td>vaini</td>\n",
       "      <td>-21.20</td>\n",
       "      <td>-175.20</td>\n",
       "      <td>77.00</td>\n",
       "      <td>78</td>\n",
       "      <td>75</td>\n",
       "      <td>12.75</td>\n",
       "      <td>TO</td>\n",
       "      <td>1603855050</td>\n",
       "    </tr>\n",
       "    <tr>\n",
       "      <th>...</th>\n",
       "      <td>...</td>\n",
       "      <td>...</td>\n",
       "      <td>...</td>\n",
       "      <td>...</td>\n",
       "      <td>...</td>\n",
       "      <td>...</td>\n",
       "      <td>...</td>\n",
       "      <td>...</td>\n",
       "      <td>...</td>\n",
       "    </tr>\n",
       "    <tr>\n",
       "      <th>533</th>\n",
       "      <td>machachi</td>\n",
       "      <td>-0.50</td>\n",
       "      <td>-78.57</td>\n",
       "      <td>57.20</td>\n",
       "      <td>81</td>\n",
       "      <td>90</td>\n",
       "      <td>2.24</td>\n",
       "      <td>EC</td>\n",
       "      <td>1603855405</td>\n",
       "    </tr>\n",
       "    <tr>\n",
       "      <th>536</th>\n",
       "      <td>panji</td>\n",
       "      <td>-7.73</td>\n",
       "      <td>114.10</td>\n",
       "      <td>90.45</td>\n",
       "      <td>52</td>\n",
       "      <td>54</td>\n",
       "      <td>3.80</td>\n",
       "      <td>ID</td>\n",
       "      <td>1603855406</td>\n",
       "    </tr>\n",
       "    <tr>\n",
       "      <th>540</th>\n",
       "      <td>itarema</td>\n",
       "      <td>-2.92</td>\n",
       "      <td>-39.92</td>\n",
       "      <td>77.27</td>\n",
       "      <td>83</td>\n",
       "      <td>100</td>\n",
       "      <td>10.45</td>\n",
       "      <td>BR</td>\n",
       "      <td>1603855436</td>\n",
       "    </tr>\n",
       "    <tr>\n",
       "      <th>546</th>\n",
       "      <td>envira</td>\n",
       "      <td>-7.30</td>\n",
       "      <td>-70.22</td>\n",
       "      <td>74.23</td>\n",
       "      <td>86</td>\n",
       "      <td>100</td>\n",
       "      <td>3.27</td>\n",
       "      <td>BR</td>\n",
       "      <td>1603855437</td>\n",
       "    </tr>\n",
       "    <tr>\n",
       "      <th>552</th>\n",
       "      <td>paita</td>\n",
       "      <td>-5.09</td>\n",
       "      <td>-81.11</td>\n",
       "      <td>64.26</td>\n",
       "      <td>86</td>\n",
       "      <td>83</td>\n",
       "      <td>10.60</td>\n",
       "      <td>PE</td>\n",
       "      <td>1603855438</td>\n",
       "    </tr>\n",
       "  </tbody>\n",
       "</table>\n",
       "<p>175 rows × 9 columns</p>\n",
       "</div>"
      ],
      "text/plain": [
       "                City    Lat     Lng  Max Temp  Humidity  Cloudiness  \\\n",
       "1            ushuaia -54.80  -68.30     44.60        42          40   \n",
       "8            rikitea -23.12 -134.97     75.45        84         100   \n",
       "10      puerto ayora  -0.74  -90.35     68.00        95          99   \n",
       "13   arraial do cabo -22.97  -42.03     72.77        90          26   \n",
       "20             vaini -21.20 -175.20     77.00        78          75   \n",
       "..               ...    ...     ...       ...       ...         ...   \n",
       "533         machachi  -0.50  -78.57     57.20        81          90   \n",
       "536            panji  -7.73  114.10     90.45        52          54   \n",
       "540          itarema  -2.92  -39.92     77.27        83         100   \n",
       "546           envira  -7.30  -70.22     74.23        86         100   \n",
       "552            paita  -5.09  -81.11     64.26        86          83   \n",
       "\n",
       "     Wind Speed Country        Date  \n",
       "1         13.87      AR  1603854789  \n",
       "8         14.90      PF  1603855048  \n",
       "10         1.01      EC  1603855049  \n",
       "13        19.66      BR  1603855049  \n",
       "20        12.75      TO  1603855050  \n",
       "..          ...     ...         ...  \n",
       "533        2.24      EC  1603855405  \n",
       "536        3.80      ID  1603855406  \n",
       "540       10.45      BR  1603855436  \n",
       "546        3.27      BR  1603855437  \n",
       "552       10.60      PE  1603855438  \n",
       "\n",
       "[175 rows x 9 columns]"
      ]
     },
     "execution_count": 15,
     "metadata": {},
     "output_type": "execute_result"
    }
   ],
   "source": [
    "northern = city_info_DF.loc[(city_info_DF[\"Lat\"]>=0)]\n",
    "northern\n",
    "southern = city_info_DF.loc[(city_info_DF[\"Lat\"]<0)]\n",
    "southern"
   ]
  },
  {
   "cell_type": "markdown",
   "metadata": {},
   "source": [
    "####  Northern Hemisphere - Max Temp vs. Latitude Linear Regression"
   ]
  },
  {
   "cell_type": "code",
   "execution_count": 16,
   "metadata": {},
   "outputs": [
    {
     "name": "stdout",
     "output_type": "stream",
     "text": [
      "the r-squared is : 0.7623965009671526\n"
     ]
    },
    {
     "data": {
      "image/png": "[encoded data removed]",
      "text/plain": [
       "<Figure size 432x288 with 1 Axes>"
      ]
     },
     "metadata": {
      "needs_background": "light"
     },
     "output_type": "display_data"
    },
    {
     "data": {
      "text/plain": [
       "<Figure size 432x288 with 0 Axes>"
      ]
     },
     "metadata": {},
     "output_type": "display_data"
    }
   ],
   "source": [
    "x_values = northern[\"Lat\"]\n",
    "y_values = northern[\"Max Temp\"]\n",
    "\n",
    "(slope,intercept,rvalue,pvalue,stderr) = linregress(x_values,y_values)\n",
    "regress_values = x_values * slope + intercept\n",
    "\n",
    "line_eq = \"y = \" + str(round(slope,2)) + \"x + \" + str(round(intercept,2))\n",
    "plt.scatter(x_values,y_values)\n",
    "plt.plot(x_values,regress_values,\"r-\")\n",
    "plt.annotate(line_eq,(0,50),fontsize=15,color=\"red\")\n",
    "plt.xlabel(\"Latitude\")\n",
    "plt.ylabel(\"Max Temperature F\")\n",
    "plt.title(\"Northern Max Temp vs. Latitude Linear Regression\")\n",
    "print(f\"the r-squared is : {rvalue**2}\")\n",
    "plt.show()\n",
    "plt.savefig(\"../output_data/Northern_Max_Temp_vs_Latitude_Linear_Regression.png\")\n"
   ]
  },
  {
   "cell_type": "code",
   "execution_count": null,
   "metadata": {},
   "outputs": [],
   "source": [
    "#After each pair of plots explain what the linear regression is modeling such as any relationships you notice and any other analysis you may have.\n",
    "#From the negative linear regression as well as negative r value we can determine that as the latitude increase the max temperature decreases. As you move further north, the temperature cools."
   ]
  },
  {
   "cell_type": "markdown",
   "metadata": {},
   "source": [
    "####  Southern Hemisphere - Max Temp vs. Latitude Linear Regression"
   ]
  },
  {
   "cell_type": "code",
   "execution_count": 17,
   "metadata": {},
   "outputs": [
    {
     "name": "stdout",
     "output_type": "stream",
     "text": [
      "the r-squared is : 0.4677361097390088\n"
     ]
    },
    {
     "data": {
      "image/png": "[encoded data removed]",
      "text/plain": [
       "<Figure size 432x288 with 1 Axes>"
      ]
     },
     "metadata": {
      "needs_background": "light"
     },
     "output_type": "display_data"
    },
    {
     "data": {
      "text/plain": [
       "<Figure size 432x288 with 0 Axes>"
      ]
     },
     "metadata": {},
     "output_type": "display_data"
    }
   ],
   "source": [
    "x_values = southern[\"Lat\"]\n",
    "y_values = southern[\"Max Temp\"]\n",
    "\n",
    "(slope,intercept,rvalue,pvalue,stderr) = linregress(x_values,y_values)\n",
    "regress_values = x_values * slope + intercept\n",
    "\n",
    "line_eq = \"y = \" + str(round(slope,2)) + \"x + \" + str(round(intercept,2))\n",
    "plt.scatter(x_values,y_values)\n",
    "plt.plot(x_values,regress_values,\"r-\")\n",
    "plt.annotate(line_eq,(0,50),fontsize=15,color=\"red\")\n",
    "plt.xlabel(\"Latitude\")\n",
    "plt.ylabel(\"Max Temperature F\")\n",
    "plt.title(\"Southern Max Temp vs. Latitude Linear Regression\")\n",
    "print(f\"the r-squared is : {rvalue**2}\")\n",
    "plt.show()\n",
    "plt.savefig(\"../output_data/Southern_Max_Temp_vs_Latitude_Linear_Regression.png\")\n"
   ]
  },
  {
   "cell_type": "code",
   "execution_count": null,
   "metadata": {},
   "outputs": [],
   "source": [
    "#After each pair of plots explain what the linear regression is modeling such as any relationships you notice and any other analysis you may have.\n",
    "#From the positive linear regression as well as positive r value we can determine that as the latitude decreases the max temperature decreases. As you move further south from the equator, the temperature cools."
   ]
  },
  {
   "cell_type": "markdown",
   "metadata": {},
   "source": [
    "####  Northern Hemisphere - Humidity (%) vs. Latitude Linear Regression"
   ]
  },
  {
   "cell_type": "code",
   "execution_count": 18,
   "metadata": {},
   "outputs": [
    {
     "name": "stdout",
     "output_type": "stream",
     "text": [
      "the r-squared is : 0.075649820293075\n"
     ]
    },
    {
     "data": {
      "image/png": "[encoded data removed]",
      "text/plain": [
       "<Figure size 432x288 with 1 Axes>"
      ]
     },
     "metadata": {
      "needs_background": "light"
     },
     "output_type": "display_data"
    },
    {
     "data": {
      "text/plain": [
       "<Figure size 432x288 with 0 Axes>"
      ]
     },
     "metadata": {},
     "output_type": "display_data"
    }
   ],
   "source": [
    "x_values = northern[\"Lat\"]\n",
    "y_values = northern[\"Humidity\"]\n",
    "\n",
    "(slope,intercept,rvalue,pvalue,stderr) = linregress(x_values,y_values)\n",
    "regress_values = x_values * slope + intercept\n",
    "\n",
    "line_eq = \"y = \" + str(round(slope,2)) + \"x + \" + str(round(intercept,2))\n",
    "plt.scatter(x_values,y_values)\n",
    "plt.plot(x_values,regress_values,\"r-\")\n",
    "plt.annotate(line_eq,(0,50),fontsize=15,color=\"red\")\n",
    "plt.xlabel(\"Latitude\")\n",
    "plt.ylabel(\"Humidity %\")\n",
    "plt.title(\"Northern Humidity % vs. Latitude Linear Regression\")\n",
    "print(f\"the r-squared is : {rvalue**2}\")\n",
    "plt.show()\n",
    "plt.savefig(\"../output_data/Northern_Humidity_vs_Latitude_Linear_Regression.png\")\n"
   ]
  },
  {
   "cell_type": "code",
   "execution_count": null,
   "metadata": {},
   "outputs": [],
   "source": [
    "#After each pair of plots explain what the linear regression is modeling such as any relationships you notice and any other analysis you may have.\n",
    "#From the above graph's slightly positive linear regression, we can see that as the latitude increases, there is evidence there is a potential relationship with increasing humidty howeever, with the amount of outliers, I think that isn't a 100% accurate statement."
   ]
  },
  {
   "cell_type": "markdown",
   "metadata": {},
   "source": [
    "####  Southern Hemisphere - Humidity (%) vs. Latitude Linear Regression"
   ]
  },
  {
   "cell_type": "code",
   "execution_count": 19,
   "metadata": {},
   "outputs": [
    {
     "name": "stdout",
     "output_type": "stream",
     "text": [
      "the r-squared is : 0.01860425493462143\n"
     ]
    },
    {
     "data": {
      "image/png": "[encoded data removed]",
      "text/plain": [
       "<Figure size 432x288 with 1 Axes>"
      ]
     },
     "metadata": {
      "needs_background": "light"
     },
     "output_type": "display_data"
    },
    {
     "data": {
      "text/plain": [
       "<Figure size 432x288 with 0 Axes>"
      ]
     },
     "metadata": {},
     "output_type": "display_data"
    }
   ],
   "source": [
    "x_values = southern[\"Lat\"]\n",
    "y_values = southern[\"Humidity\"]\n",
    "\n",
    "(slope,intercept,rvalue,pvalue,stderr) = linregress(x_values,y_values)\n",
    "regress_values = x_values * slope + intercept\n",
    "\n",
    "line_eq = \"y = \" + str(round(slope,2)) + \"x + \" + str(round(intercept,2))\n",
    "plt.scatter(x_values,y_values)\n",
    "plt.plot(x_values,regress_values,\"r-\")\n",
    "plt.annotate(line_eq,(0,50),fontsize=15,color=\"red\")\n",
    "plt.xlabel(\"Latitude\")\n",
    "plt.ylabel(\"Humidity %\")\n",
    "plt.title(\"Southern Humidity % vs. Latitude Linear Regression\")\n",
    "print(f\"the r-squared is : {rvalue**2}\")\n",
    "plt.show()\n",
    "plt.savefig(\"../output_data/Southern_Humidity_vs_Latitude_Linear_Regression.png\")\n"
   ]
  },
  {
   "cell_type": "code",
   "execution_count": null,
   "metadata": {},
   "outputs": [],
   "source": [
    "#After each pair of plots explain what the linear regression is modeling such as any relationships you notice and any other analysis you may have.\n",
    "\n",
    "#From the above graph's slightly positive linear regression, we can see that as the latitude increases, there is evidence there is a potential relationship with increasing humidty howeever, with the amount of outliers, I think that isn't a 100% accurate statement."
   ]
  },
  {
   "cell_type": "markdown",
   "metadata": {},
   "source": [
    "####  Northern Hemisphere - Cloudiness (%) vs. Latitude Linear Regression"
   ]
  },
  {
   "cell_type": "code",
   "execution_count": 20,
   "metadata": {},
   "outputs": [
    {
     "name": "stdout",
     "output_type": "stream",
     "text": [
      "the r-squared is : 0.0650492382370072\n"
     ]
    },
    {
     "data": {
      "image/png": "[encoded data removed]",
      "text/plain": [
       "<Figure size 432x288 with 1 Axes>"
      ]
     },
     "metadata": {
      "needs_background": "light"
     },
     "output_type": "display_data"
    },
    {
     "data": {
      "text/plain": [
       "<Figure size 432x288 with 0 Axes>"
      ]
     },
     "metadata": {},
     "output_type": "display_data"
    }
   ],
   "source": [
    "x_values = northern[\"Lat\"]\n",
    "y_values = northern[\"Cloudiness\"]\n",
    "\n",
    "(slope,intercept,rvalue,pvalue,stderr) = linregress(x_values,y_values)\n",
    "regress_values = x_values * slope + intercept\n",
    "\n",
    "line_eq = \"y = \" + str(round(slope,2)) + \"x + \" + str(round(intercept,2))\n",
    "plt.scatter(x_values,y_values)\n",
    "plt.plot(x_values,regress_values,\"r-\")\n",
    "plt.annotate(line_eq,(0,50),fontsize=15,color=\"red\")\n",
    "plt.xlabel(\"Latitude\")\n",
    "plt.ylabel(\"Northern Cloudiness %\")\n",
    "plt.title(\"Northern Cloudiness % vs. Latitude Linear Regression\")\n",
    "print(f\"the r-squared is : {rvalue**2}\")\n",
    "plt.show()\n",
    "plt.savefig(\"../output_data/Northern_Cloudiness_vs_Latitude_Linear_Regression.png\")\n"
   ]
  },
  {
   "cell_type": "code",
   "execution_count": null,
   "metadata": {},
   "outputs": [],
   "source": [
    "#After each pair of plots explain what the linear regression is modeling such as any relationships you notice and any other analysis you may have.\n",
    "#Although a positive linear regression and r value, the amount of outliers prevent me from drowing a solid relationship between the two factors. It does not appear to be a relationship between the Latitude and the cloudiness in the northern hemisphere and if there is it is extremely slight."
   ]
  },
  {
   "cell_type": "markdown",
   "metadata": {},
   "source": [
    "####  Southern Hemisphere - Cloudiness (%) vs. Latitude Linear Regression"
   ]
  },
  {
   "cell_type": "code",
   "execution_count": 21,
   "metadata": {},
   "outputs": [
    {
     "name": "stdout",
     "output_type": "stream",
     "text": [
      "the r-squared is : 0.01542832265181544\n"
     ]
    },
    {
     "data": {
      "image/png": "[encoded data removed]",
      "text/plain": [
       "<Figure size 432x288 with 1 Axes>"
      ]
     },
     "metadata": {
      "needs_background": "light"
     },
     "output_type": "display_data"
    },
    {
     "data": {
      "text/plain": [
       "<Figure size 432x288 with 0 Axes>"
      ]
     },
     "metadata": {},
     "output_type": "display_data"
    }
   ],
   "source": [
    "x_values = southern[\"Lat\"]\n",
    "y_values = southern[\"Cloudiness\"]\n",
    "\n",
    "(slope,intercept,rvalue,pvalue,stderr) = linregress(x_values,y_values)\n",
    "regress_values = x_values * slope + intercept\n",
    "\n",
    "line_eq = \"y = \" + str(round(slope,2)) + \"x + \" + str(round(intercept,2))\n",
    "plt.scatter(x_values,y_values)\n",
    "plt.plot(x_values,regress_values,\"r-\")\n",
    "plt.annotate(line_eq,(0,50),fontsize=15,color=\"red\")\n",
    "plt.xlabel(\"Latitude\")\n",
    "plt.ylabel(\"Southern Cloudiness %\")\n",
    "plt.title(\"Southern Cloudiness % vs. Latitude Linear Regression\")\n",
    "print(f\"the r-squared is : {rvalue**2}\")\n",
    "plt.show()\n",
    "plt.savefig(\"../output_data/Southern_Cloudiness_vs_Latitude_Linear_Regression.png\")\n"
   ]
  },
  {
   "cell_type": "code",
   "execution_count": null,
   "metadata": {},
   "outputs": [],
   "source": [
    "#After each pair of plots explain what the linear regression is modeling such as any relationships you notice and any other analysis you may have.\n",
    "#Although a positive linear regression and r value, the amount of outliers prevent me from drowing a solid relationship between the two factors. It does not appear to be a relationship between the Latitude and the cloudiness in the southern hemisphere and if there is it is extremely slight."
   ]
  },
  {
   "cell_type": "markdown",
   "metadata": {},
   "source": [
    "####  Northern Hemisphere - Wind Speed (mph) vs. Latitude Linear Regression"
   ]
  },
  {
   "cell_type": "code",
   "execution_count": 22,
   "metadata": {},
   "outputs": [
    {
     "name": "stdout",
     "output_type": "stream",
     "text": [
      "the r-squared is : 0.05213321139463735\n"
     ]
    },
    {
     "data": {
      "image/png": "[encoded data removed]",
      "text/plain": [
       "<Figure size 432x288 with 1 Axes>"
      ]
     },
     "metadata": {
      "needs_background": "light"
     },
     "output_type": "display_data"
    },
    {
     "data": {
      "text/plain": [
       "<Figure size 432x288 with 0 Axes>"
      ]
     },
     "metadata": {},
     "output_type": "display_data"
    }
   ],
   "source": [
    "x_values = northern[\"Lat\"]\n",
    "y_values = northern[\"Wind Speed\"]\n",
    "\n",
    "(slope,intercept,rvalue,pvalue,stderr) = linregress(x_values,y_values)\n",
    "regress_values = x_values * slope + intercept\n",
    "\n",
    "line_eq = \"y = \" + str(round(slope,2)) + \"x + \" + str(round(intercept,2))\n",
    "plt.scatter(x_values,y_values)\n",
    "plt.plot(x_values,regress_values,\"r-\")\n",
    "plt.annotate(line_eq,(0,50),fontsize=15,color=\"red\")\n",
    "plt.xlabel(\"Latitude\")\n",
    "plt.ylabel(\"Wind Speed mph\")\n",
    "plt.title(\"Northern Wind Speed (mph) vs. Latitude Linear Regression\")\n",
    "print(f\"the r-squared is : {rvalue**2}\")\n",
    "plt.show()\n",
    "plt.savefig(\"../output_data/Northern_Wind_Speed_vs_Latitude_Linear_Regression.png\")\n"
   ]
  },
  {
   "cell_type": "code",
   "execution_count": null,
   "metadata": {},
   "outputs": [],
   "source": [
    "#After each pair of plots explain what the linear regression is modeling such as any relationships you notice and any other analysis you may have.\n",
    "#There is a positive linear regression however the r value is less than .7 so it is not statistically strong. Similar to the couple of graphs above, tehre doens't appear to be a solid relationship between the latitude and the wind speed. From the cities dataframe, the wind speed for a mority tend to be low, but that is not uniform across the board in the northern hemisphere."
   ]
  },
  {
   "cell_type": "markdown",
   "metadata": {},
   "source": [
    "####  Southern Hemisphere - Wind Speed (mph) vs. Latitude Linear Regression"
   ]
  },
  {
   "cell_type": "code",
   "execution_count": 23,
   "metadata": {},
   "outputs": [
    {
     "name": "stdout",
     "output_type": "stream",
     "text": [
      "the r-squared is : 0.06763385650737613\n"
     ]
    },
    {
     "data": {
      "image/png": "[encoded data removed]",
      "text/plain": [
       "<Figure size 432x288 with 1 Axes>"
      ]
     },
     "metadata": {
      "needs_background": "light"
     },
     "output_type": "display_data"
    },
    {
     "data": {
      "text/plain": [
       "<Figure size 432x288 with 0 Axes>"
      ]
     },
     "metadata": {},
     "output_type": "display_data"
    }
   ],
   "source": [
    "x_values = southern[\"Lat\"]\n",
    "y_values = southern[\"Wind Speed\"]\n",
    "\n",
    "(slope,intercept,rvalue,pvalue,stderr) = linregress(x_values,y_values)\n",
    "regress_values = x_values * slope + intercept\n",
    "\n",
    "line_eq = \"y = \" + str(round(slope,2)) + \"x + \" + str(round(intercept,2))\n",
    "plt.scatter(x_values,y_values)\n",
    "plt.plot(x_values,regress_values,\"r-\")\n",
    "plt.annotate(line_eq,(0,50),fontsize=15,color=\"red\")\n",
    "plt.xlabel(\"Latitude\")\n",
    "plt.ylabel(\"Wind Speed mph\")\n",
    "plt.title(\"Southern Wind Speed (mph) vs. Latitude Linear Regression\")\n",
    "print(f\"the r-squared is : {rvalue**2}\")\n",
    "plt.show()\n",
    "plt.savefig(\"../output_data/Southern_Wind_Speed_vs_Latitude_Linear_Regression.png\")\n"
   ]
  },
  {
   "cell_type": "code",
   "execution_count": null,
   "metadata": {},
   "outputs": [],
   "source": [
    "#After each pair of plots explain what the linear regression is modeling such as any relationships you notice and any other analysis you may have.\n",
    "#There is a positive linear regression however the r value is less than .7 so it is not statistically strong. Similar to the couple of graphs above, tehre doens't appear to be a solid relationship between the latitude and the wind speed. From the cities dataframe, the wind speed for a mority tend to be low, but that is not uniform across the board in the southern hemisphere. Possibly if plotting for both hemispheres was done on the same graph, you may be able to really see a relationship."
   ]
  }
 ],
 "metadata": {
  "anaconda-cloud": {},
  "kernel_info": {
   "name": "python3"
  },
  "kernelspec": {
   "display_name": "Python 3",
   "language": "python",
   "name": "python3"
  },
  "language_info": {
   "codemirror_mode": {
    "name": "ipython",
    "version": 3
   },
   "file_extension": ".py",
   "mimetype": "text/x-python",
   "name": "python",
   "nbconvert_exporter": "python",
   "pygments_lexer": "ipython3",
   "version": "3.8.3"
  },
  "latex_envs": {
   "LaTeX_envs_menu_present": true,
   "autoclose": false,
   "autocomplete": true,
   "bibliofile": "biblio.bib",
   "cite_by": "apalike",
   "current_citInitial": 1,
   "eqLabelWithNumbers": true,
   "eqNumInitial": 1,
   "hotkeys": {
    "equation": "Ctrl-E",
    "itemize": "Ctrl-I"
   },
   "labels_anchors": false,
   "latex_user_defs": false,
   "report_style_numbering": false,
   "user_envs_cfg": false
  },
  "nteract": {
   "version": "0.12.3"
  }
 },
 "nbformat": 4,
 "nbformat_minor": 2
}
